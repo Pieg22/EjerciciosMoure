{
  "nbformat": 4,
  "nbformat_minor": 0,
  "metadata": {
    "colab": {
      "provenance": [],
      "authorship_tag": "ABX9TyPXcBh2aNi2voBGXiSIMRU/",
      "include_colab_link": true
    },
    "kernelspec": {
      "name": "python3",
      "display_name": "Python 3"
    },
    "language_info": {
      "name": "python"
    }
  },
  "cells": [
    {
      "cell_type": "markdown",
      "metadata": {
        "id": "view-in-github",
        "colab_type": "text"
      },
      "source": [
        "<a href=\"https://colab.research.google.com/github/Pieg22/EjerciciosMoure/blob/master/The_cyclone.ipynb\" target=\"_parent\"><img src=\"https://colab.research.google.com/assets/colab-badge.svg\" alt=\"Open In Colab\"/></a>"
      ]
    },
    {
      "cell_type": "code",
      "source": [
        "#The cyclone\n",
        "\n",
        "height_question = input(\" What is your height? \")\n",
        "credits_question = input(\" How much credits have you ? \")\n",
        "\n",
        "height = int(height_question)\n",
        "credits = int(credits_question)\n",
        "\n",
        "if height >= 137 and credits >= 10 :\n",
        "  answer = \"Enjoy the ride!\"\n",
        "elif height < 137 and credits >= 10 :\n",
        "  answer = \"You are gnom or what?\"\n",
        "elif credits < 10 and height >= 137 :\n",
        "  answer = \"You are poor , get away!\"\n",
        "else :\n",
        "  answer = \"You do not complete the requirement\"\n",
        "\n",
        "print(answer)\n",
        "\n",
        "\n",
        "#The correction was. :\n",
        "\n",
        "#height = int(input('What is your height (cm)? '))\n",
        "#credits = int(input('How many credits do you have? '))\n",
        "\n",
        "#They did the input on the same line with conversion to int .\n"
      ],
      "metadata": {
        "id": "DoKdfe7ts5G9"
      },
      "execution_count": null,
      "outputs": []
    }
  ]
}